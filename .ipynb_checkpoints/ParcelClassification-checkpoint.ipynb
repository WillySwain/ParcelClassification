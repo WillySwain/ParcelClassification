{
 "cells": [
  {
   "cell_type": "code",
   "execution_count": null,
   "id": "2e546188",
   "metadata": {},
   "outputs": [],
   "source": [
    "from icrawler.builtin import GoogleImageCrawler\n",
    "\n",
    "google_crawler = GoogleImageCrawler(storage={'root_dir': 'goodpackages'})\n",
    "google_crawler.crawl(keyword='packages ready to ship', max_num=500)\n",
    "\n",
    "google_crawler = GoogleImageCrawler(storage={'root_dir': 'badpackages'})\n",
    "google_crawler.crawl(keyword='destroyed packages', max_num=5)\n",
    "\n",
    "from torchvision import transforms\n",
    "\n",
    "transforms.Compose([\n",
    "    transforms.Resize(256),\n",
    "    transforms.CenterCrop(224),\n",
    "    transforms.ToTensor(),\n",
    "    transforms.Normalize(mean=[0.485, 0.456, 0.406], std=[0.229, 0.224, 0.225])\n",
    "])\n"
   ]
  }
 ],
 "metadata": {
  "kernelspec": {
   "display_name": "Python 3 (ipykernel)",
   "language": "python",
   "name": "python3"
  },
  "language_info": {
   "codemirror_mode": {
    "name": "ipython",
    "version": 3
   },
   "file_extension": ".py",
   "mimetype": "text/x-python",
   "name": "python",
   "nbconvert_exporter": "python",
   "pygments_lexer": "ipython3",
   "version": "3.9.12"
  }
 },
 "nbformat": 4,
 "nbformat_minor": 5
}
