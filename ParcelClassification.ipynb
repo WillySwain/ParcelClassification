{
 "cells": [
  {
   "attachments": {},
   "cell_type": "markdown",
   "id": "2f79f28d",
   "metadata": {},
   "source": [
    "# Gather Dataset\n",
    "The dataset will be gathered using Google's iCrawler"
   ]
  },
  {
   "cell_type": "code",
   "execution_count": 1,
   "id": "2e546188",
   "metadata": {},
   "outputs": [],
   "source": [
    "from icrawler.builtin import GoogleImageCrawler\n",
    "import datetime\n",
    "def datetime2tuple(date):\n",
    "    return (date.year, date.month, date.day)\n",
    "def gather_data(n_total_images,n_per_crawl,keyword, folder_name): #collects data by sending google different search queries with different date constraints to mitigate duplicate images\n",
    "    delta = datetime.timedelta(days=30)\n",
    "    end_day = datetime.datetime(2023, 3, 17)\n",
    "    for i in range(int(n_total_images / n_per_crawl )):\n",
    "        start_day = end_day - delta\n",
    "        google_crawler = GoogleImageCrawler(downloader_threads=4, storage={'root_dir': folder_name})\n",
    "        google_crawler.crawl(keyword=keyword[i], filters={'date':(datetime2tuple(start_day), datetime2tuple(end_day))}, file_idx_offset=i*n_per_crawl , max_num=n_per_crawl)\n",
    "        end_day = start_day - datetime.timedelta(days=1)\n",
    "\n",
    "#each call gathers data from the query and sends it to its respective directory to be manually cleaned\n",
    "\n",
    "#gather_data(900,100,['cardboard boxes with tape on it','cardboard boxes with tape on it','packages ready to ship','packages about to be sent','cardboard boxes',\n",
    "#           'packages','box packages','sealed packages','delivery cardboard package box'],'data/startingdata/goodpackages')\n",
    "#gather_data(200,100,['ripped cardboard boxes','ripped packages'],'data/startingdata/rippedpackages') #ripped\n",
    "#gather_data(200,100,['destroyed packages','damaged cardboard boxes'],'data/startingdata/crushedpackages') #crushed\n",
    "#gather_data(200,100,['cardboard boxes with water damage','wet cardboard boxes'],'data/startingdata/leakingpackages')#leaking\n",
    "#gather_data(200,100,['burned cardboard','charred cardboard'],'data/startingdata/burnedpackages') # burned\n",
    "#gather_data(200,100,['cardboard recycling pile','broken down cardboard boxes'],'data/startingdata/foldedpackages')#folded"
   ]
  },
  {
   "attachments": {},
   "cell_type": "markdown",
   "id": "225642ca",
   "metadata": {},
   "source": [
    "# Split the Data\n",
    "After manually cleaning the data, it is ready to be split into testing and training sets.\n",
    "The different categories of data will be merged into \"bad packages\" to allow for binary image classification"
   ]
  },
  {
   "cell_type": "code",
   "execution_count": 2,
   "id": "becb3e5e",
   "metadata": {},
   "outputs": [
    {
     "name": "stderr",
     "output_type": "stream",
     "text": [
      "Copying files: 1000 files [00:03, 273.80 files/s]\n"
     ]
    }
   ],
   "source": [
    "import splitfolders\n",
    "import shutil\n",
    "import os\n",
    "input_folder = \"data\\\\startingdata\\\\\" #learning rate\n",
    "output_folder = \"data\\\\split data\\\\\"\n",
    "splitfolders.ratio(input_folder, output=output_folder, #splits the data 80% for training and 20% for testing\n",
    "                   seed=2, ratio=(.8, 0, .2))\n",
    "subsets = ['test\\\\', 'train\\\\'] \n",
    "for subset in subsets: #will be moving images for the training and testing sets\n",
    "    output = output_folder+subset\n",
    "    destination = \"data\\\\split data\\\\\"+subset+\"\\\\badpackages\\\\\"\n",
    "    categories = ['burnedpackages', 'crushedpackages',\n",
    "                  'foldedpackages', 'leakingpackages', 'rippedpackages']\n",
    "    for category in categories: #will merge each directory of bad packages into a single one\n",
    "        source_folder = output + category\n",
    "        for file_name in os.listdir(source_folder):\n",
    "\n",
    "            if os.path.exists(destination + '\\\\' + file_name): #if the already path exists, it renames the new image and moves it\n",
    "                data = os.path.splitext(file_name)\n",
    "                only_name = data[0]\n",
    "                extension = data[1]\n",
    "                new_base = category + only_name + extension\n",
    "                new_name = os.path.join(destination, new_base)\n",
    "                shutil.move(source_folder + '\\\\' + file_name, new_name)\n",
    "            else:\n",
    "                shutil.move(source_folder + '\\\\' + file_name, #if the path is not already used, the new file will take its place\n",
    "                            destination + '\\\\' + file_name)\n",
    "        os.rmdir(source_folder)\n"
   ]
  },
  {
   "attachments": {},
   "cell_type": "markdown",
   "id": "f98331f4",
   "metadata": {},
   "source": [
    "# Processing the Data\n",
    "The data will be preprocessed using Keras' ImageDataGenerator"
   ]
  },
  {
   "cell_type": "code",
   "execution_count": 3,
   "id": "4bbcabae",
   "metadata": {},
   "outputs": [
    {
     "name": "stdout",
     "output_type": "stream",
     "text": [
      "Found 480 images belonging to 2 classes.\n",
      "Found 80 images belonging to 2 classes.\n"
     ]
    }
   ],
   "source": [
    "from tensorflow.keras.applications.resnet50 import preprocess_input,ResNet50\n",
    "from tensorflow.keras.layers import Dense,GlobalAveragePooling2D\n",
    "from tensorflow.keras.preprocessing.image import ImageDataGenerator\n",
    "from tensorflow.keras.models import Model\n",
    "\n",
    "img_height,img_width = (224,224) #the size required by resnet\n",
    "\n",
    "train_data_path = \"data/split data/train/\"\n",
    "test_data_path = \"data/split data/test/\"\n",
    "#val_data_path = \"data/split data/val/\"\n",
    "training_datagen = ImageDataGenerator(preprocessing_function=preprocess_input,horizontal_flip=True,validation_split=0.4) #randomly flips images and saves 40% for validation\n",
    "training_data_generator = training_datagen.flow_from_directory(train_data_path,target_size=(img_height,img_width),class_mode='categorical',subset='training')\n",
    "testing_data_generator = training_datagen.flow_from_directory(test_data_path,target_size=(img_height,img_width),batch_size=1,class_mode='categorical',subset='validation')\n",
    "#validation_data_generator = training_datagen.flow_from_directory(val_data_path,target_size=(img_height,img_width),batch_size=1,class_mode='categorical',subset='validation')\n"
   ]
  },
  {
   "attachments": {},
   "cell_type": "markdown",
   "id": "4df0abdb",
   "metadata": {},
   "source": [
    "# Train the Model"
   ]
  },
  {
   "cell_type": "code",
   "execution_count": 4,
   "id": "4d779234",
   "metadata": {},
   "outputs": [
    {
     "name": "stdout",
     "output_type": "stream",
     "text": [
      "Epoch 1/3\n",
      " 2/15 [===>..........................] - ETA: 22s - loss: 2.3962 "
     ]
    },
    {
     "name": "stderr",
     "output_type": "stream",
     "text": [
      "c:\\Users\\willi\\anaconda3\\lib\\site-packages\\PIL\\Image.py:945: UserWarning: Palette images with Transparency expressed in bytes should be converted to RGBA images\n",
      "  warnings.warn(\n"
     ]
    },
    {
     "name": "stdout",
     "output_type": "stream",
     "text": [
      "15/15 [==============================] - 38s 2s/step - loss: 0.9794\n",
      "Epoch 2/3\n",
      "15/15 [==============================] - 30s 2s/step - loss: 0.2788\n",
      "Epoch 3/3\n",
      "15/15 [==============================] - 31s 2s/step - loss: 0.1761\n"
     ]
    },
    {
     "data": {
      "text/plain": [
       "<keras.callbacks.History at 0x21f22113070>"
      ]
     },
     "execution_count": 4,
     "metadata": {},
     "output_type": "execute_result"
    }
   ],
   "source": [
    "from PIL import ImageFile\n",
    "ImageFile.LOAD_TRUNCATED_IMAGES = True #This is required to get around an error thrown by larger images\n",
    "\n",
    "base_model = ResNet50(include_top=False,weights='imagenet')\n",
    "\n",
    "output=base_model.output #add new layers to the model\n",
    "output=GlobalAveragePooling2D()(output) #adds global average poolinglayer\n",
    "output=Dense(1024,activation='relu')(output)  #adds dense layer\n",
    "predictions = Dense(training_data_generator.num_classes,activation='softmax')(output)\n",
    "model = Model(inputs=base_model.input,outputs=predictions) \n",
    "\n",
    "for layer in base_model.layers: #freezes all of the weights in the base_model layers\n",
    "    layer.trainable = False\n",
    "\n",
    "model.compile(optimizer='adam',loss='binary_crossentropy') \n",
    "model.fit(training_data_generator,epochs=3) # trains the newly added layers [] learning rate"
   ]
  },
  {
   "attachments": {},
   "cell_type": "markdown",
   "id": "644fba3b",
   "metadata": {},
   "source": [
    "# Evaluation"
   ]
  },
  {
   "cell_type": "code",
   "execution_count": 5,
   "id": "2a3e16e8",
   "metadata": {},
   "outputs": [
    {
     "name": "stdout",
     "output_type": "stream",
     "text": [
      "1/1 [==============================] - 2s 2s/step\n",
      "1/1 [==============================] - 0s 112ms/step\n",
      "1/1 [==============================] - 0s 105ms/step\n",
      "1/1 [==============================] - 0s 108ms/step\n",
      "1/1 [==============================] - 0s 107ms/step\n",
      "1/1 [==============================] - 0s 110ms/step\n",
      "1/1 [==============================] - 0s 113ms/step\n",
      "1/1 [==============================] - 0s 119ms/step\n",
      "1/1 [==============================] - 0s 120ms/step\n",
      "1/1 [==============================] - 0s 118ms/step\n",
      "1/1 [==============================] - 0s 114ms/step\n",
      "1/1 [==============================] - 0s 114ms/step\n",
      "1/1 [==============================] - 0s 109ms/step\n",
      "1/1 [==============================] - 0s 116ms/step\n",
      "1/1 [==============================] - 0s 109ms/step\n",
      "1/1 [==============================] - 0s 112ms/step\n",
      "1/1 [==============================] - 0s 109ms/step\n",
      "1/1 [==============================] - 0s 119ms/step\n",
      "1/1 [==============================] - 0s 115ms/step\n",
      "1/1 [==============================] - 0s 112ms/step\n",
      "1/1 [==============================] - 0s 267ms/step\n",
      "1/1 [==============================] - 0s 113ms/step\n",
      "1/1 [==============================] - 0s 110ms/step\n",
      "1/1 [==============================] - 0s 109ms/step\n",
      "1/1 [==============================] - 0s 110ms/step\n",
      "1/1 [==============================] - 0s 110ms/step\n",
      "1/1 [==============================] - 0s 110ms/step\n",
      "1/1 [==============================] - 0s 109ms/step\n",
      "1/1 [==============================] - 0s 108ms/step\n",
      "1/1 [==============================] - 0s 111ms/step\n",
      "1/1 [==============================] - 0s 105ms/step\n",
      "1/1 [==============================] - 0s 108ms/step\n",
      "1/1 [==============================] - 0s 112ms/step\n",
      "1/1 [==============================] - 0s 112ms/step\n",
      "1/1 [==============================] - 0s 112ms/step\n",
      "1/1 [==============================] - 0s 119ms/step\n",
      "1/1 [==============================] - 0s 114ms/step\n",
      "1/1 [==============================] - 0s 129ms/step\n",
      "1/1 [==============================] - 0s 118ms/step\n",
      "1/1 [==============================] - 0s 132ms/step\n",
      "1/1 [==============================] - 0s 116ms/step\n",
      "1/1 [==============================] - 0s 111ms/step\n",
      "1/1 [==============================] - 0s 110ms/step\n",
      "1/1 [==============================] - 0s 124ms/step\n",
      "1/1 [==============================] - 0s 108ms/step\n",
      "1/1 [==============================] - 0s 111ms/step\n",
      "1/1 [==============================] - 0s 128ms/step\n",
      "1/1 [==============================] - 0s 108ms/step\n",
      "1/1 [==============================] - 0s 122ms/step\n",
      "1/1 [==============================] - 0s 106ms/step\n",
      "1/1 [==============================] - 0s 123ms/step\n",
      "1/1 [==============================] - 0s 119ms/step\n",
      "1/1 [==============================] - 0s 114ms/step\n",
      "1/1 [==============================] - 0s 108ms/step\n",
      "1/1 [==============================] - 0s 116ms/step\n",
      "1/1 [==============================] - 0s 129ms/step\n",
      "1/1 [==============================] - 0s 127ms/step\n",
      "1/1 [==============================] - 0s 110ms/step\n",
      "1/1 [==============================] - 0s 118ms/step\n",
      "1/1 [==============================] - 0s 116ms/step\n",
      "1/1 [==============================] - 0s 120ms/step\n",
      "1/1 [==============================] - 0s 115ms/step\n",
      "1/1 [==============================] - 0s 109ms/step\n",
      "1/1 [==============================] - 0s 108ms/step\n",
      "1/1 [==============================] - 0s 114ms/step\n",
      "1/1 [==============================] - 0s 110ms/step\n",
      "1/1 [==============================] - 0s 113ms/step\n",
      "1/1 [==============================] - 0s 111ms/step\n",
      "1/1 [==============================] - 0s 110ms/step\n",
      "1/1 [==============================] - 0s 111ms/step\n",
      "1/1 [==============================] - 0s 112ms/step\n",
      "1/1 [==============================] - 0s 112ms/step\n",
      "1/1 [==============================] - 0s 108ms/step\n",
      "1/1 [==============================] - 0s 109ms/step\n",
      "1/1 [==============================] - 0s 107ms/step\n",
      "1/1 [==============================] - 0s 110ms/step\n",
      "1/1 [==============================] - 0s 119ms/step\n",
      "1/1 [==============================] - 0s 114ms/step\n",
      "1/1 [==============================] - 0s 114ms/step\n",
      "1/1 [==============================] - 0s 120ms/step\n"
     ]
    }
   ],
   "source": [
    "samples = len(testing_data_generator)\n",
    "predicted = []\n",
    "actual=[]\n",
    "#print(testing_data_generator.class_indices)\n",
    "for i in range(samples): #runs each sample in the test set\n",
    "    x,y=testing_data_generator.next() #x is the image and y is the label\n",
    "    predicted.append((model.predict(x)))\n",
    "    actual.append(y)"
   ]
  },
  {
   "cell_type": "code",
   "execution_count": 6,
   "id": "a5bc696a",
   "metadata": {},
   "outputs": [
    {
     "data": {
      "image/png": "[encoded data removed]",
      "text/plain": [
       "<Figure size 540x540 with 1 Axes>"
      ]
     },
     "metadata": {
      "needs_background": "light"
     },
     "output_type": "display_data"
    },
    {
     "name": "stdout",
     "output_type": "stream",
     "text": [
      "Accuracy: 0.8875\n",
      "Precision: 0.975\n",
      "Recall: 0.8297872340425532\n",
      "Specificity: 0.9696969696969697\n",
      "F1-Score: 0.896551724137931\n"
     ]
    }
   ],
   "source": [
    "import matplotlib.pyplot as plt\n",
    "from sklearn.metrics import confusion_matrix\n",
    "model.save('Models\\\\Resnet50\\\\Resnet50_with_50_10_datasplit.h5')\n",
    "predicted_class = [i.argmax() for i in predicted]\n",
    "actual_class = [i.argmax() for i in actual]\n",
    "\n",
    "conf_matrix = confusion_matrix(actual_class, predicted_class) #creates confusion matrix from predictions and actuals\n",
    "fig, ax = plt.subplots(figsize=(7.5, 7.5))\n",
    "ax.matshow(conf_matrix, cmap=plt.cm.Blues, alpha=0.3)\n",
    "\n",
    "for i in range(conf_matrix.shape[0]):\n",
    "    for j in range(conf_matrix.shape[1]):\n",
    "        ax.text(x=j, y=i,s=conf_matrix[i, j], va='center', ha='center', size='xx-large')\n",
    " \n",
    "plt.xlabel('Predicted label', fontsize=18)\n",
    "plt.ylabel('Actual label', fontsize=18)\n",
    "plt.title('Confusion Matrix', fontsize=18)\n",
    "plt.show()\n",
    "\n",
    "precision = (conf_matrix[0][0])/(conf_matrix[0][0]+conf_matrix[0][1])\n",
    "recall = (conf_matrix[0][0])/(conf_matrix[0][0]+conf_matrix[1][0])\n",
    "\n",
    "print(\"Accuracy:\",  (conf_matrix[0][0]+conf_matrix[1][1])/((conf_matrix[0][0]+conf_matrix[0][1])+(conf_matrix[1][0]+conf_matrix[1][1])))\n",
    "print(\"Precision:\",  precision)\n",
    "print(\"Recall:\",  recall)\n",
    "print(\"Specificity:\",  (conf_matrix[1][1])/(conf_matrix[1][1]+conf_matrix[0][1]))\n",
    "print(\"F1-Score:\",  (2*precision * recall)/(precision+recall))\n"
   ]
  },
  {
   "attachments": {},
   "cell_type": "markdown",
   "id": "4dd5c455",
   "metadata": {},
   "source": [
    "# VGG"
   ]
  },
  {
   "cell_type": "code",
   "execution_count": 7,
   "id": "133c07c0",
   "metadata": {},
   "outputs": [
    {
     "name": "stdout",
     "output_type": "stream",
     "text": [
      "Found 480 images belonging to 2 classes.\n",
      "Found 80 images belonging to 2 classes.\n"
     ]
    }
   ],
   "source": [
    "from tensorflow.keras.applications.vgg19 import preprocess_input,VGG19\n",
    "from tensorflow.keras.layers import Dense,GlobalAveragePooling2D\n",
    "from tensorflow.keras.preprocessing.image import ImageDataGenerator\n",
    "from tensorflow.keras.models import Model\n",
    "\n",
    "img_height,img_width = (224,224) #the size required by resnet\n",
    "\n",
    "train_data_path = \"data/split data/train/\"\n",
    "test_data_path = \"data/split data/test/\"\n",
    "\n",
    "VGG_training_datagen = ImageDataGenerator(preprocessing_function=preprocess_input,horizontal_flip=True,validation_split=0.4) #randomly flips images and saves 40% for validation\n",
    "VGG_training_data_generator = VGG_training_datagen.flow_from_directory(train_data_path,target_size=(img_height,img_width),class_mode='categorical',subset='training')\n",
    "VGG_testing_data_generator = VGG_training_datagen.flow_from_directory(test_data_path,target_size=(img_height,img_width),batch_size=1,class_mode='categorical',subset='validation')"
   ]
  },
  {
   "cell_type": "code",
   "execution_count": 8,
   "id": "6f8bf469",
   "metadata": {},
   "outputs": [
    {
     "name": "stdout",
     "output_type": "stream",
     "text": [
      "Downloading data from https://storage.googleapis.com/tensorflow/keras-applications/vgg19/vgg19_weights_tf_dim_ordering_tf_kernels_notop.h5\n",
      "80134624/80134624 [==============================] - 32s 0us/step\n",
      "Epoch 1/3\n",
      " 6/15 [===========>..................] - ETA: 34s - loss: 1.9874"
     ]
    },
    {
     "name": "stderr",
     "output_type": "stream",
     "text": [
      "c:\\Users\\willi\\anaconda3\\lib\\site-packages\\PIL\\Image.py:945: UserWarning: Palette images with Transparency expressed in bytes should be converted to RGBA images\n",
      "  warnings.warn(\n"
     ]
    },
    {
     "name": "stdout",
     "output_type": "stream",
     "text": [
      "15/15 [==============================] - 63s 4s/step - loss: 1.3871\n",
      "Epoch 2/3\n",
      "15/15 [==============================] - 67s 4s/step - loss: 0.4365\n",
      "Epoch 3/3\n",
      "15/15 [==============================] - 73s 5s/step - loss: 0.1753\n"
     ]
    },
    {
     "data": {
      "text/plain": [
       "<keras.callbacks.History at 0x21f28c53be0>"
      ]
     },
     "execution_count": 8,
     "metadata": {},
     "output_type": "execute_result"
    }
   ],
   "source": [
    "from PIL import ImageFile\n",
    "ImageFile.LOAD_TRUNCATED_IMAGES = True #This is required to get around an error thrown by larger images\n",
    "\n",
    "base_model = VGG19(include_top=False,weights='imagenet')\n",
    "\n",
    "output=base_model.output #add new layers to the model\n",
    "output=GlobalAveragePooling2D()(output) #adds global average poolinglayer\n",
    "output=Dense(1024,activation='relu')(output)  #adds dense layer\n",
    "predictions = Dense(VGG_training_data_generator.num_classes,activation='softmax')(output)\n",
    "model = Model(inputs=base_model.input,outputs=predictions) \n",
    "\n",
    "for layer in base_model.layers: #freezes all of the weights in the base_model layers\n",
    "    layer.trainable = False\n",
    "\n",
    "model.compile(optimizer='adam',loss='binary_crossentropy') \n",
    "model.fit(VGG_training_data_generator,epochs=3) # trains the newly added layers"
   ]
  },
  {
   "cell_type": "code",
   "execution_count": 9,
   "id": "6d614910",
   "metadata": {},
   "outputs": [
    {
     "name": "stdout",
     "output_type": "stream",
     "text": [
      "1/1 [==============================] - 1s 565ms/step\n",
      "1/1 [==============================] - 0s 190ms/step\n",
      "1/1 [==============================] - 0s 172ms/step\n",
      "1/1 [==============================] - 0s 157ms/step\n",
      "1/1 [==============================] - 0s 167ms/step\n",
      "1/1 [==============================] - 0s 161ms/step\n",
      "1/1 [==============================] - 0s 164ms/step\n",
      "1/1 [==============================] - 0s 164ms/step\n",
      "1/1 [==============================] - 0s 168ms/step\n",
      "1/1 [==============================] - 0s 169ms/step\n",
      "1/1 [==============================] - 0s 176ms/step\n",
      "1/1 [==============================] - 0s 194ms/step\n",
      "1/1 [==============================] - 0s 222ms/step\n",
      "1/1 [==============================] - 0s 201ms/step\n",
      "1/1 [==============================] - 0s 233ms/step\n",
      "1/1 [==============================] - 0s 208ms/step\n",
      "1/1 [==============================] - 0s 210ms/step\n",
      "1/1 [==============================] - 0s 204ms/step\n",
      "1/1 [==============================] - 0s 220ms/step\n",
      "1/1 [==============================] - 0s 193ms/step\n",
      "1/1 [==============================] - 0s 201ms/step\n",
      "1/1 [==============================] - 0s 188ms/step\n",
      "1/1 [==============================] - 0s 205ms/step\n",
      "1/1 [==============================] - 0s 202ms/step\n",
      "1/1 [==============================] - 0s 198ms/step\n",
      "1/1 [==============================] - 0s 202ms/step\n",
      "1/1 [==============================] - 0s 186ms/step\n",
      "1/1 [==============================] - 0s 192ms/step\n",
      "1/1 [==============================] - 0s 201ms/step\n",
      "1/1 [==============================] - 0s 195ms/step\n",
      "1/1 [==============================] - 0s 181ms/step\n",
      "1/1 [==============================] - 0s 183ms/step\n",
      "1/1 [==============================] - 0s 174ms/step\n",
      "1/1 [==============================] - 0s 193ms/step\n",
      "1/1 [==============================] - 0s 188ms/step\n",
      "1/1 [==============================] - 0s 180ms/step\n",
      "1/1 [==============================] - 0s 186ms/step\n",
      "1/1 [==============================] - 0s 189ms/step\n",
      "1/1 [==============================] - 0s 178ms/step\n",
      "1/1 [==============================] - 0s 170ms/step\n",
      "1/1 [==============================] - 0s 185ms/step\n",
      "1/1 [==============================] - 0s 176ms/step\n",
      "1/1 [==============================] - 0s 177ms/step\n",
      "1/1 [==============================] - 0s 181ms/step\n",
      "1/1 [==============================] - 0s 172ms/step\n",
      "1/1 [==============================] - 0s 192ms/step\n",
      "1/1 [==============================] - 0s 188ms/step\n",
      "1/1 [==============================] - 0s 192ms/step\n",
      "1/1 [==============================] - 0s 186ms/step\n",
      "1/1 [==============================] - 0s 184ms/step\n",
      "1/1 [==============================] - 0s 177ms/step\n",
      "1/1 [==============================] - 0s 176ms/step\n",
      "1/1 [==============================] - 0s 182ms/step\n",
      "1/1 [==============================] - 0s 174ms/step\n",
      "1/1 [==============================] - 0s 177ms/step\n",
      "1/1 [==============================] - 0s 176ms/step\n",
      "1/1 [==============================] - 0s 184ms/step\n",
      "1/1 [==============================] - 0s 186ms/step\n",
      "1/1 [==============================] - 0s 176ms/step\n",
      "1/1 [==============================] - 0s 182ms/step\n",
      "1/1 [==============================] - 0s 179ms/step\n",
      "1/1 [==============================] - 0s 172ms/step\n",
      "1/1 [==============================] - 0s 177ms/step\n",
      "1/1 [==============================] - 0s 171ms/step\n",
      "1/1 [==============================] - 0s 174ms/step\n",
      "1/1 [==============================] - 0s 203ms/step\n",
      "1/1 [==============================] - 0s 189ms/step\n",
      "1/1 [==============================] - 0s 195ms/step\n",
      "1/1 [==============================] - 0s 200ms/step\n",
      "1/1 [==============================] - 0s 182ms/step\n",
      "1/1 [==============================] - 0s 177ms/step\n",
      "1/1 [==============================] - 0s 178ms/step\n",
      "1/1 [==============================] - 0s 174ms/step\n",
      "1/1 [==============================] - 0s 180ms/step\n",
      "1/1 [==============================] - 0s 172ms/step\n",
      "1/1 [==============================] - 0s 171ms/step\n",
      "1/1 [==============================] - 0s 171ms/step\n",
      "1/1 [==============================] - 0s 174ms/step\n",
      "1/1 [==============================] - 0s 174ms/step\n",
      "1/1 [==============================] - 0s 166ms/step\n"
     ]
    }
   ],
   "source": [
    "samples = len(VGG_testing_data_generator)\n",
    "predicted = []\n",
    "actual=[]\n",
    "#print(testing_data_generator.class_indices)\n",
    "for i in range(samples): #runs each sample in the test set\n",
    "    x,y=VGG_testing_data_generator.next() #x is the image and y is the label\n",
    "    predicted.append((model.predict(x)))\n",
    "    actual.append(y)"
   ]
  },
  {
   "cell_type": "code",
   "execution_count": 10,
   "id": "43258bf4",
   "metadata": {},
   "outputs": [
    {
     "data": {
      "image/png": "[encoded data removed]",
      "text/plain": [
       "<Figure size 540x540 with 1 Axes>"
      ]
     },
     "metadata": {
      "needs_background": "light"
     },
     "output_type": "display_data"
    },
    {
     "name": "stdout",
     "output_type": "stream",
     "text": [
      "Accuracy: 0.9375\n",
      "Precision: 0.9\n",
      "Recall: 0.972972972972973\n",
      "Specificity: 0.9069767441860465\n",
      "F1-Score: 0.935064935064935\n"
     ]
    }
   ],
   "source": [
    "import matplotlib.pyplot as plt\n",
    "from sklearn.metrics import confusion_matrix\n",
    "\n",
    "predicted_class = [i.argmax() for i in predicted]\n",
    "actual_class = [i.argmax() for i in actual]\n",
    "\n",
    "conf_matrix = confusion_matrix(actual_class, predicted_class) #creates confusion matrix from predictions and actuals\n",
    "fig, ax = plt.subplots(figsize=(7.5, 7.5))\n",
    "ax.matshow(conf_matrix, cmap=plt.cm.Blues, alpha=0.3)\n",
    "\n",
    "for i in range(conf_matrix.shape[0]):\n",
    "    for j in range(conf_matrix.shape[1]):\n",
    "        ax.text(x=j, y=i,s=conf_matrix[i, j], va='center', ha='center', size='xx-large')\n",
    " \n",
    "plt.xlabel('Predicted label', fontsize=18)\n",
    "plt.ylabel('Actual label', fontsize=18)\n",
    "plt.title('Confusion Matrix', fontsize=18)\n",
    "plt.show()\n",
    "\n",
    "precision = (conf_matrix[0][0])/(conf_matrix[0][0]+conf_matrix[0][1])\n",
    "recall = (conf_matrix[0][0])/(conf_matrix[0][0]+conf_matrix[1][0])\n",
    "\n",
    "print(\"Accuracy:\",  (conf_matrix[0][0]+conf_matrix[1][1])/((conf_matrix[0][0]+conf_matrix[0][1])+(conf_matrix[1][0]+conf_matrix[1][1])))\n",
    "print(\"Precision:\",  precision)\n",
    "print(\"Recall:\",  recall)\n",
    "print(\"Specificity:\",  (conf_matrix[1][1])/(conf_matrix[1][1]+conf_matrix[0][1]))\n",
    "print(\"F1-Score:\",  (2*precision * recall)/(precision+recall))"
   ]
  }
 ],
 "metadata": {
  "kernelspec": {
   "display_name": "base",
   "language": "python",
   "name": "python3"
  },
  "language_info": {
   "codemirror_mode": {
    "name": "ipython",
    "version": 3
   },
   "file_extension": ".py",
   "mimetype": "text/x-python",
   "name": "python",
   "nbconvert_exporter": "python",
   "pygments_lexer": "ipython3",
   "version": "3.9.12"
  },
  "vscode": {
   "interpreter": {
    "hash": "1870f1194fb5b3d43b6d32e845741389586dbe9c4e1e45e17e0f6602cfe22778"
   }
  }
 },
 "nbformat": 4,
 "nbformat_minor": 5
}
