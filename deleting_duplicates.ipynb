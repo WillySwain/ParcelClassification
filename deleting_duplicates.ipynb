{
 "cells": [
  {
   "cell_type": "code",
   "execution_count": 28,
   "id": "dfda52c3",
   "metadata": {},
   "outputs": [
    {
     "name": "stdout",
     "output_type": "stream",
     "text": [
      "c:\\Users\\willi\\PycharmProjects\\ParcelClassification\\goodpackages_cleaned\n",
      "100\n",
      "[]\n"
     ]
    }
   ],
   "source": [
    "\n",
    "# cleaning code from https://www.codespeedy.com/how-to-delete-similar-images-from-a-directory-or-folder-in-python/\n",
    "\n",
    "import hashlib\n",
    "from cv2 import imread, imshow\n",
    "import matplotlib.pyplot as plt\n",
    "import matplotlib.gridspec as gridspec\n",
    "import numpy as np\n",
    "import os\n",
    "def file_hash(filename):\n",
    "    with open(filename,'rb') as f:\n",
    "        return md5(f.read()).hexdigest()\n",
    "print(os.getcwd())\n",
    "files_list = os.listdir('.')\n",
    "print (len(files_list))\n",
    "\n",
    "duplicates=[]\n",
    "hash_keys=dict()\n",
    "for index, filename in enumerate(os.listdir('.')):\n",
    "    if os.path.isfile(filename):\n",
    "        with open(filename, 'rb') as f:\n",
    "            filehash = hashlib.md5(f.read()).hexdigest()\n",
    "        if filehash not in hash_keys:\n",
    "            hash_keys[filehash]=index\n",
    "        else:\n",
    "            duplicates.append((index,hash_keys[filehash]))\n",
    "print(duplicates)\n",
    "for file_indexes in duplicates[:30]:\n",
    "    try:\n",
    "        plt.subplot(121),plt.imshow(imread(files_list[file_indexes[1]]))\n",
    "        plt.title(file_indexes[1]),plt.xticks([]),plt.yticks([])\n",
    "        plt.subplot(122),plt.imshow(imread(files_list[file_indexes[0]]))\n",
    "        plt.title(str(file_indexes[0])+ 'duplicate'),plt.xticks([]),plt.yticks([])\n",
    "        plt.show()\n",
    "\n",
    "    except OSError as e:\n",
    "        continue\n",
    "\n",
    "for index in duplicates:\n",
    "    os.remove(files_list[index[0]])"
   ]
  }
 ],
 "metadata": {
  "kernelspec": {
   "display_name": "Python 3 (ipykernel)",
   "language": "python",
   "name": "python3"
  },
  "language_info": {
   "codemirror_mode": {
    "name": "ipython",
    "version": 3
   },
   "file_extension": ".py",
   "mimetype": "text/x-python",
   "name": "python",
   "nbconvert_exporter": "python",
   "pygments_lexer": "ipython3",
   "version": "3.9.12"
  }
 },
 "nbformat": 4,
 "nbformat_minor": 5
}
