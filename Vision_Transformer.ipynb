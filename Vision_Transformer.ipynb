{
  "nbformat": 4,
  "nbformat_minor": 0,
  "metadata": {
    "colab": {
      "provenance": [],
      "toc_visible": true,
      "machine_shape": "hm"
    },
    "kernelspec": {
      "name": "python3",
      "display_name": "Python 3"
    },
    "language_info": {
      "name": "python"
    },
    "accelerator": "GPU"
  },
  "cells": [
    {
      "cell_type": "code",
      "metadata": {
        "colab": {
          "base_uri": "https://localhost:8080/"
        },
        "id": "6MCTZFkFw6i6",
        "outputId": "2314a1f3-33c6-45a1-c7f1-bdef29fdbff4"
      },
      "source": [
        "!pip install -q git+https://github.com/huggingface/transformers"
      ],
      "execution_count": 77,
      "outputs": [
        {
          "output_type": "stream",
          "name": "stdout",
          "text": [
            "  Installing build dependencies ... \u001b[?25l\u001b[?25hdone\n",
            "  Getting requirements to build wheel ... \u001b[?25l\u001b[?25hdone\n",
            "  Preparing metadata (pyproject.toml) ... \u001b[?25l\u001b[?25hdone\n"
          ]
        }
      ]
    },
    {
      "cell_type": "code",
      "metadata": {
        "colab": {
          "base_uri": "https://localhost:8080/"
        },
        "id": "XC9HqG5u750_",
        "outputId": "336719f6-2a67-48f2-c7b4-1f0762380c0b"
      },
      "source": [
        "!pip install roboflow\n",
        "\n",
        "from roboflow import Roboflow\n",
        "rf = Roboflow(api_key=\"AvkRcIYAvUA2WtYkRunR\")\n",
        "project = rf.workspace().project(\"parcel-damage-classification\")\n",
        "dataset = project.version(2).download(\"folder\")"
      ],
      "execution_count": 78,
      "outputs": [
        {
          "output_type": "stream",
          "name": "stdout",
          "text": [
            "Looking in indexes: https://pypi.org/simple, https://us-python.pkg.dev/colab-wheels/public/simple/\n",
            "Requirement already satisfied: roboflow in /usr/local/lib/python3.9/dist-packages (1.0.3)\n",
            "Requirement already satisfied: pyparsing==2.4.7 in /usr/local/lib/python3.9/dist-packages (from roboflow) (2.4.7)\n",
            "Requirement already satisfied: wget in /usr/local/lib/python3.9/dist-packages (from roboflow) (3.2)\n",
            "Requirement already satisfied: Pillow>=7.1.2 in /usr/local/lib/python3.9/dist-packages (from roboflow) (8.4.0)\n",
            "Requirement already satisfied: PyYAML>=5.3.1 in /usr/local/lib/python3.9/dist-packages (from roboflow) (6.0)\n",
            "Requirement already satisfied: opencv-python>=4.1.2 in /usr/local/lib/python3.9/dist-packages (from roboflow) (4.7.0.72)\n",
            "Requirement already satisfied: cycler==0.10.0 in /usr/local/lib/python3.9/dist-packages (from roboflow) (0.10.0)\n",
            "Requirement already satisfied: certifi==2022.12.7 in /usr/local/lib/python3.9/dist-packages (from roboflow) (2022.12.7)\n",
            "Requirement already satisfied: requests-toolbelt in /usr/local/lib/python3.9/dist-packages (from roboflow) (0.10.1)\n",
            "Requirement already satisfied: tqdm>=4.41.0 in /usr/local/lib/python3.9/dist-packages (from roboflow) (4.65.0)\n",
            "Requirement already satisfied: python-dateutil in /usr/local/lib/python3.9/dist-packages (from roboflow) (2.8.2)\n",
            "Requirement already satisfied: urllib3>=1.26.6 in /usr/local/lib/python3.9/dist-packages (from roboflow) (1.26.15)\n",
            "Requirement already satisfied: six in /usr/local/lib/python3.9/dist-packages (from roboflow) (1.16.0)\n",
            "Requirement already satisfied: requests in /usr/local/lib/python3.9/dist-packages (from roboflow) (2.27.1)\n",
            "Requirement already satisfied: chardet==4.0.0 in /usr/local/lib/python3.9/dist-packages (from roboflow) (4.0.0)\n",
            "Requirement already satisfied: kiwisolver>=1.3.1 in /usr/local/lib/python3.9/dist-packages (from roboflow) (1.4.4)\n",
            "Requirement already satisfied: python-dotenv in /usr/local/lib/python3.9/dist-packages (from roboflow) (1.0.0)\n",
            "Requirement already satisfied: idna==2.10 in /usr/local/lib/python3.9/dist-packages (from roboflow) (2.10)\n",
            "Requirement already satisfied: numpy>=1.18.5 in /usr/local/lib/python3.9/dist-packages (from roboflow) (1.22.4)\n",
            "Requirement already satisfied: matplotlib in /usr/local/lib/python3.9/dist-packages (from roboflow) (3.7.1)\n",
            "Requirement already satisfied: contourpy>=1.0.1 in /usr/local/lib/python3.9/dist-packages (from matplotlib->roboflow) (1.0.7)\n",
            "Requirement already satisfied: packaging>=20.0 in /usr/local/lib/python3.9/dist-packages (from matplotlib->roboflow) (23.0)\n",
            "Requirement already satisfied: importlib-resources>=3.2.0 in /usr/local/lib/python3.9/dist-packages (from matplotlib->roboflow) (5.12.0)\n",
            "Requirement already satisfied: fonttools>=4.22.0 in /usr/local/lib/python3.9/dist-packages (from matplotlib->roboflow) (4.39.3)\n",
            "Requirement already satisfied: charset-normalizer~=2.0.0 in /usr/local/lib/python3.9/dist-packages (from requests->roboflow) (2.0.12)\n",
            "Requirement already satisfied: zipp>=3.1.0 in /usr/local/lib/python3.9/dist-packages (from importlib-resources>=3.2.0->matplotlib->roboflow) (3.15.0)\n",
            "loading Roboflow workspace...\n",
            "loading Roboflow project...\n",
            "Downloading Dataset Version Zip in Parcel-Damage-Classification-2 to folder: 100% [8417952 / 8417952] bytes\n"
          ]
        },
        {
          "output_type": "stream",
          "name": "stderr",
          "text": [
            "Extracting Dataset Version Zip to Parcel-Damage-Classification-2 in folder:: 100%|██████████| 1011/1011 [00:00<00:00, 3758.54it/s]\n"
          ]
        }
      ]
    },
    {
      "cell_type": "code",
      "metadata": {
        "id": "kgn-a3NiSjqR"
      },
      "source": [
        "import torchvision\n",
        "from torchvision.transforms import ToTensor\n",
        "\n",
        "train_ds = torchvision.datasets.ImageFolder(dataset.location + '/train/', transform=ToTensor())\n",
        "valid_ds = torchvision.datasets.ImageFolder(dataset.location + '/valid/', transform=ToTensor())\n",
        "test_ds = torchvision.datasets.ImageFolder(dataset.location + '/test/', transform=ToTensor())"
      ],
      "execution_count": 79,
      "outputs": []
    },
    {
      "cell_type": "markdown",
      "metadata": {
        "id": "wyHJjDYLfoFy"
      },
      "source": [
        "## Define the Model"
      ]
    },
    {
      "cell_type": "code",
      "metadata": {
        "id": "cGDrb1Q4ToLN",
        "colab": {
          "base_uri": "https://localhost:8080/"
        },
        "outputId": "14324754-5797-4956-88c3-d6ca6b1bc5ca"
      },
      "source": [
        "!pip install transformers\n",
        "from transformers import ViTModel\n",
        "from transformers.modeling_outputs import SequenceClassifierOutput\n",
        "import torch.nn as nn\n",
        "import torch.nn.functional as F\n",
        "\n",
        "class ViTForImageClassification(nn.Module):\n",
        "    def __init__(self, num_labels=3):\n",
        "        super(ViTForImageClassification, self).__init__()\n",
        "        self.vit = ViTModel.from_pretrained('google/vit-base-patch16-224-in21k')\n",
        "        self.dropout = nn.Dropout(0.1)\n",
        "        self.classifier = nn.Linear(self.vit.config.hidden_size, num_labels)\n",
        "        self.num_labels = num_labels\n",
        "\n",
        "    def forward(self, pixel_values, labels):\n",
        "        outputs = self.vit(pixel_values=pixel_values)\n",
        "        output = self.dropout(outputs.last_hidden_state[:,0])\n",
        "        logits = self.classifier(output)\n",
        "\n",
        "        loss = None\n",
        "        if labels is not None:\n",
        "          loss_fct = nn.CrossEntropyLoss()\n",
        "          loss = loss_fct(logits.view(-1, self.num_labels), labels.view(-1))\n",
        "        if loss is not None:\n",
        "          return logits, loss.item()\n",
        "        else:\n",
        "          return logits, None"
      ],
      "execution_count": 80,
      "outputs": [
        {
          "output_type": "stream",
          "name": "stdout",
          "text": [
            "Looking in indexes: https://pypi.org/simple, https://us-python.pkg.dev/colab-wheels/public/simple/\n",
            "Requirement already satisfied: transformers in /usr/local/lib/python3.9/dist-packages (4.28.0.dev0)\n",
            "Requirement already satisfied: regex!=2019.12.17 in /usr/local/lib/python3.9/dist-packages (from transformers) (2022.10.31)\n",
            "Requirement already satisfied: filelock in /usr/local/lib/python3.9/dist-packages (from transformers) (3.11.0)\n",
            "Requirement already satisfied: packaging>=20.0 in /usr/local/lib/python3.9/dist-packages (from transformers) (23.0)\n",
            "Requirement already satisfied: tokenizers!=0.11.3,<0.14,>=0.11.1 in /usr/local/lib/python3.9/dist-packages (from transformers) (0.13.3)\n",
            "Requirement already satisfied: numpy>=1.17 in /usr/local/lib/python3.9/dist-packages (from transformers) (1.22.4)\n",
            "Requirement already satisfied: huggingface-hub<1.0,>=0.11.0 in /usr/local/lib/python3.9/dist-packages (from transformers) (0.13.4)\n",
            "Requirement already satisfied: pyyaml>=5.1 in /usr/local/lib/python3.9/dist-packages (from transformers) (6.0)\n",
            "Requirement already satisfied: tqdm>=4.27 in /usr/local/lib/python3.9/dist-packages (from transformers) (4.65.0)\n",
            "Requirement already satisfied: requests in /usr/local/lib/python3.9/dist-packages (from transformers) (2.27.1)\n",
            "Requirement already satisfied: typing-extensions>=3.7.4.3 in /usr/local/lib/python3.9/dist-packages (from huggingface-hub<1.0,>=0.11.0->transformers) (4.5.0)\n",
            "Requirement already satisfied: certifi>=2017.4.17 in /usr/local/lib/python3.9/dist-packages (from requests->transformers) (2022.12.7)\n",
            "Requirement already satisfied: urllib3<1.27,>=1.21.1 in /usr/local/lib/python3.9/dist-packages (from requests->transformers) (1.26.15)\n",
            "Requirement already satisfied: idna<4,>=2.5 in /usr/local/lib/python3.9/dist-packages (from requests->transformers) (2.10)\n",
            "Requirement already satisfied: charset-normalizer~=2.0.0 in /usr/local/lib/python3.9/dist-packages (from requests->transformers) (2.0.12)\n"
          ]
        }
      ]
    },
    {
      "cell_type": "markdown",
      "metadata": {
        "id": "BePiLK-LtXuG"
      },
      "source": [
        "## Define the Model Parameters\n",
        "\n",
        "To train this model, we will train in 3 epochs, with a batch size of 10 and a learning rate of 2e-5:"
      ]
    },
    {
      "cell_type": "code",
      "metadata": {
        "id": "ntGvS0_wUAxc"
      },
      "source": [
        "EPOCHS = 3\n",
        "BATCH_SIZE = 4\n",
        "LEARNING_RATE = 2e-5"
      ],
      "execution_count": 81,
      "outputs": []
    },
    {
      "cell_type": "markdown",
      "metadata": {
        "id": "At9H-QOStt8_"
      },
      "source": [
        "We will use the pretrained Vision Transformer feature extractor, an Adam Optimizer, and a Cross Entropy Loss function."
      ]
    },
    {
      "cell_type": "code",
      "metadata": {
        "colab": {
          "base_uri": "https://localhost:8080/"
        },
        "id": "RIyJr8EDtvlR",
        "outputId": "57b11e98-3fae-4f87-d823-e509fb1d63e6"
      },
      "source": [
        "from transformers import ViTFeatureExtractor\n",
        "import torch.nn as nn\n",
        "import torch\n",
        "# Define Model\n",
        "model = ViTForImageClassification(len(train_ds.classes))    \n",
        "# Feature Extractor\n",
        "feature_extractor = ViTFeatureExtractor.from_pretrained('google/vit-base-patch16-224-in21k')\n",
        "# Adam Optimizer\n",
        "optimizer = torch.optim.Adam(model.parameters(), lr=LEARNING_RATE)\n",
        "# Cross Entropy Loss\n",
        "loss_func = nn.CrossEntropyLoss()\n",
        "# Use GPU if available  \n",
        "device = torch.device('cuda' if torch.cuda.is_available() else 'cpu') \n",
        "if torch.cuda.is_available():\n",
        "    model.cuda() "
      ],
      "execution_count": 82,
      "outputs": [
        {
          "output_type": "stream",
          "name": "stderr",
          "text": [
            "The class ViTFeatureExtractor is deprecated and will be removed in version 5 of Transformers. Please use ViTImageProcessor instead.\n"
          ]
        }
      ]
    },
    {
      "cell_type": "markdown",
      "metadata": {
        "id": "XTZ-BP1yu1Us"
      },
      "source": [
        "## Train the Model"
      ]
    },
    {
      "cell_type": "code",
      "metadata": {
        "colab": {
          "base_uri": "https://localhost:8080/"
        },
        "id": "5ql2T5PDUI1D",
        "outputId": "68f76cc0-7068-44cd-f844-4db3234febb7"
      },
      "source": [
        "import torch.utils.data as data\n",
        "from torch.autograd import Variable\n",
        "import numpy as np\n",
        "\n",
        "print(\"Number of train samples: \", len(train_ds))\n",
        "print(\"Number of test samples: \", len(test_ds))\n",
        "print(\"Detected Classes are: \", train_ds.class_to_idx) \n",
        "\n",
        "train_loader = data.DataLoader(train_ds, batch_size=BATCH_SIZE, shuffle=True,  num_workers=4)\n",
        "test_loader  = data.DataLoader(valid_ds, batch_size=BATCH_SIZE, shuffle=True, num_workers=4) \n",
        "\n",
        "# Train the model\n",
        "for epoch in range(EPOCHS):        \n",
        "  for step, (x, y) in enumerate(train_loader):\n",
        "    # Change input array into list with each batch being one element\n",
        "    x = np.split(np.squeeze(np.array(x)), BATCH_SIZE)\n",
        "    # Remove unecessary dimension\n",
        "    for index, array in enumerate(x):\n",
        "      x[index] = np.squeeze(array)\n",
        "    # Apply feature extractor, stack back into 1 tensor and then convert to tensor\n",
        "    x = torch.tensor(np.stack(feature_extractor(x)['pixel_values'], axis=0))\n",
        "    # Send to GPU if available\n",
        "    x, y  = x.to(device), y.to(device)\n",
        "    b_x = Variable(x)   # batch x (image)\n",
        "    b_y = Variable(y)   # batch y (target)\n",
        "    # Feed through model\n",
        "    output, loss = model(b_x, None)\n",
        "    # Calculate loss\n",
        "    if loss is None: \n",
        "      loss = loss_func(output, b_y)   \n",
        "      optimizer.zero_grad()           \n",
        "      loss.backward()                 \n",
        "      optimizer.step()\n",
        "\n",
        "    if step % 50 == 0:\n",
        "      # Get the next batch for testing purposes\n",
        "      test = next(iter(test_loader))\n",
        "      test_x = test[0]\n",
        "      # Reshape and get feature matrices as needed\n",
        "      test_x = np.split(np.squeeze(np.array(test_x)), BATCH_SIZE)\n",
        "      for index, array in enumerate(test_x):\n",
        "        test_x[index] = np.squeeze(array)\n",
        "      test_x = torch.tensor(np.stack(feature_extractor(test_x)['pixel_values'], axis=0))\n",
        "      # Send to appropirate computing device\n",
        "      test_x = test_x.to(device)\n",
        "      test_y = test[1].to(device)\n",
        "      # Get output (+ respective class) and compare to target\n",
        "      test_output, loss = model(test_x, test_y)\n",
        "      test_output = test_output.argmax(1)\n",
        "      # Calculate Accuracy\n",
        "      accuracy = (test_output == test_y).sum().item() / BATCH_SIZE\n",
        "      print('Epoch: ', epoch, '| train loss: %.4f' % loss, '| test accuracy: %.2f' % accuracy)"
      ],
      "execution_count": 83,
      "outputs": [
        {
          "output_type": "stream",
          "name": "stdout",
          "text": [
            "Number of train samples:  704\n",
            "Number of test samples:  99\n",
            "Detected Classes are:  {'damagedpackages': 0, 'undamagedpackages': 1}\n"
          ]
        },
        {
          "output_type": "stream",
          "name": "stderr",
          "text": [
            "This DataLoader will create 4 worker processes in total. Our suggested max number of worker in current system is 2, which is smaller than what this DataLoader is going to create. Please be aware that excessive worker creation might get DataLoader running slow or even freeze, lower the worker number to avoid potential slowness/freeze if necessary.\n"
          ]
        },
        {
          "output_type": "stream",
          "name": "stdout",
          "text": [
            "Epoch:  0 | train loss: 0.6715 | test accuracy: 0.75\n",
            "Epoch:  0 | train loss: 0.6137 | test accuracy: 0.75\n",
            "Epoch:  0 | train loss: 0.6946 | test accuracy: 0.50\n",
            "Epoch:  0 | train loss: 0.7033 | test accuracy: 0.50\n",
            "Epoch:  1 | train loss: 0.6901 | test accuracy: 0.75\n",
            "Epoch:  1 | train loss: 0.6910 | test accuracy: 0.50\n",
            "Epoch:  1 | train loss: 0.5706 | test accuracy: 1.00\n",
            "Epoch:  1 | train loss: 0.7053 | test accuracy: 0.25\n",
            "Epoch:  2 | train loss: 0.7310 | test accuracy: 0.25\n",
            "Epoch:  2 | train loss: 0.7076 | test accuracy: 0.25\n",
            "Epoch:  2 | train loss: 0.7207 | test accuracy: 0.25\n",
            "Epoch:  2 | train loss: 0.7149 | test accuracy: 0.00\n"
          ]
        }
      ]
    },
    {
      "cell_type": "markdown",
      "metadata": {
        "id": "LWXvWiB-srBC"
      },
      "source": [
        "## Evaluate on a Test Image\n",
        "\n",
        "Finally, let's evaluate the model on a test image:"
      ]
    },
    {
      "cell_type": "code",
      "metadata": {
        "colab": {
          "base_uri": "https://localhost:8080/"
        },
        "id": "ZLv_xdYssuGO",
        "outputId": "b29972b9-d4f2-4d22-afc0-3e1a679d8ab6"
      },
      "source": [
        "import matplotlib.pyplot as plt\n",
        "import numpy as np\n",
        "\n",
        "EVAL_BATCH = 1\n",
        "eval_loader  = data.DataLoader(test_ds, batch_size=EVAL_BATCH, shuffle=True, num_workers=4) \n",
        "predicted_class = []\n",
        "actual_class = []\n",
        "\n",
        "for inputs, target in iter(eval_loader):\n",
        "\n",
        "  # Disable grad\n",
        "  with torch.no_grad():\n",
        "      \n",
        "\n",
        "    # Reshape and get feature matrices as needed\n",
        "    print(inputs.shape)\n",
        "    inputs = inputs[0].permute(1, 2, 0)\n",
        "    # Save original Input\n",
        "    originalInput = inputs\n",
        "    for index, array in enumerate(inputs):\n",
        "      inputs[index] = np.squeeze(array)\n",
        "    inputs = torch.tensor(np.stack(feature_extractor(inputs)['pixel_values'], axis=0))\n",
        "\n",
        "    # Send to appropriate computing device\n",
        "    inputs = inputs.to(device)\n",
        "    target = target.to(device)\n",
        "  \n",
        "    # Generate prediction\n",
        "    prediction, loss = model(inputs, target)\n",
        "      \n",
        "    # Predicted class value using argmax\n",
        "    predicted_classif = np.argmax(prediction.cpu())\n",
        "    value_predicted = list(valid_ds.class_to_idx.keys())[list(valid_ds.class_to_idx.values()).index(predicted_classif)]\n",
        "    value_target = list(valid_ds.class_to_idx.keys())[list(valid_ds.class_to_idx.values()).index(target)]\n",
        "          \n",
        "    actual_class.append(target.detach().cpu().numpy()[0])\n",
        "    predicted_class.append(predicted_classif.detach().cpu().numpy())\n",
        "    #predicted_list.append()\n",
        "    # Show result\n",
        "    # plt.imshow(originalInput)\n",
        "    # plt.xlim(224,0)\n",
        "    # plt.ylim(224,0)\n",
        "    # plt.title(f'Prediction: {value_predicted} - Actual target: {value_target}')\n",
        "    # plt.show()"
      ],
      "execution_count": 84,
      "outputs": [
        {
          "output_type": "stream",
          "name": "stdout",
          "text": [
            "torch.Size([1, 3, 224, 224])\n",
            "torch.Size([1, 3, 224, 224])\n",
            "torch.Size([1, 3, 224, 224])\n",
            "torch.Size([1, 3, 224, 224])\n",
            "torch.Size([1, 3, 224, 224])\n",
            "torch.Size([1, 3, 224, 224])\n",
            "torch.Size([1, 3, 224, 224])\n",
            "torch.Size([1, 3, 224, 224])\n",
            "torch.Size([1, 3, 224, 224])\n",
            "torch.Size([1, 3, 224, 224])\n",
            "torch.Size([1, 3, 224, 224])\n",
            "torch.Size([1, 3, 224, 224])\n",
            "torch.Size([1, 3, 224, 224])\n",
            "torch.Size([1, 3, 224, 224])\n",
            "torch.Size([1, 3, 224, 224])\n",
            "torch.Size([1, 3, 224, 224])\n",
            "torch.Size([1, 3, 224, 224])\n",
            "torch.Size([1, 3, 224, 224])\n",
            "torch.Size([1, 3, 224, 224])\n",
            "torch.Size([1, 3, 224, 224])\n",
            "torch.Size([1, 3, 224, 224])\n",
            "torch.Size([1, 3, 224, 224])\n",
            "torch.Size([1, 3, 224, 224])\n",
            "torch.Size([1, 3, 224, 224])\n",
            "torch.Size([1, 3, 224, 224])\n",
            "torch.Size([1, 3, 224, 224])\n",
            "torch.Size([1, 3, 224, 224])\n",
            "torch.Size([1, 3, 224, 224])\n",
            "torch.Size([1, 3, 224, 224])\n",
            "torch.Size([1, 3, 224, 224])\n",
            "torch.Size([1, 3, 224, 224])\n",
            "torch.Size([1, 3, 224, 224])\n",
            "torch.Size([1, 3, 224, 224])\n",
            "torch.Size([1, 3, 224, 224])\n",
            "torch.Size([1, 3, 224, 224])\n",
            "torch.Size([1, 3, 224, 224])\n",
            "torch.Size([1, 3, 224, 224])\n",
            "torch.Size([1, 3, 224, 224])\n",
            "torch.Size([1, 3, 224, 224])\n",
            "torch.Size([1, 3, 224, 224])\n",
            "torch.Size([1, 3, 224, 224])\n",
            "torch.Size([1, 3, 224, 224])\n",
            "torch.Size([1, 3, 224, 224])\n",
            "torch.Size([1, 3, 224, 224])\n",
            "torch.Size([1, 3, 224, 224])\n",
            "torch.Size([1, 3, 224, 224])\n",
            "torch.Size([1, 3, 224, 224])\n",
            "torch.Size([1, 3, 224, 224])\n",
            "torch.Size([1, 3, 224, 224])\n",
            "torch.Size([1, 3, 224, 224])\n",
            "torch.Size([1, 3, 224, 224])\n",
            "torch.Size([1, 3, 224, 224])\n",
            "torch.Size([1, 3, 224, 224])\n",
            "torch.Size([1, 3, 224, 224])\n",
            "torch.Size([1, 3, 224, 224])\n",
            "torch.Size([1, 3, 224, 224])\n",
            "torch.Size([1, 3, 224, 224])\n",
            "torch.Size([1, 3, 224, 224])\n",
            "torch.Size([1, 3, 224, 224])\n",
            "torch.Size([1, 3, 224, 224])\n",
            "torch.Size([1, 3, 224, 224])\n",
            "torch.Size([1, 3, 224, 224])\n",
            "torch.Size([1, 3, 224, 224])\n",
            "torch.Size([1, 3, 224, 224])\n",
            "torch.Size([1, 3, 224, 224])\n",
            "torch.Size([1, 3, 224, 224])\n",
            "torch.Size([1, 3, 224, 224])\n",
            "torch.Size([1, 3, 224, 224])\n",
            "torch.Size([1, 3, 224, 224])\n",
            "torch.Size([1, 3, 224, 224])\n",
            "torch.Size([1, 3, 224, 224])\n",
            "torch.Size([1, 3, 224, 224])\n",
            "torch.Size([1, 3, 224, 224])\n",
            "torch.Size([1, 3, 224, 224])\n",
            "torch.Size([1, 3, 224, 224])\n",
            "torch.Size([1, 3, 224, 224])\n",
            "torch.Size([1, 3, 224, 224])\n",
            "torch.Size([1, 3, 224, 224])\n",
            "torch.Size([1, 3, 224, 224])\n",
            "torch.Size([1, 3, 224, 224])\n",
            "torch.Size([1, 3, 224, 224])\n",
            "torch.Size([1, 3, 224, 224])\n",
            "torch.Size([1, 3, 224, 224])\n",
            "torch.Size([1, 3, 224, 224])\n",
            "torch.Size([1, 3, 224, 224])\n",
            "torch.Size([1, 3, 224, 224])\n",
            "torch.Size([1, 3, 224, 224])\n",
            "torch.Size([1, 3, 224, 224])\n",
            "torch.Size([1, 3, 224, 224])\n",
            "torch.Size([1, 3, 224, 224])\n",
            "torch.Size([1, 3, 224, 224])\n",
            "torch.Size([1, 3, 224, 224])\n",
            "torch.Size([1, 3, 224, 224])\n",
            "torch.Size([1, 3, 224, 224])\n",
            "torch.Size([1, 3, 224, 224])\n",
            "torch.Size([1, 3, 224, 224])\n",
            "torch.Size([1, 3, 224, 224])\n",
            "torch.Size([1, 3, 224, 224])\n",
            "torch.Size([1, 3, 224, 224])\n"
          ]
        }
      ]
    },
    {
      "cell_type": "code",
      "source": [
        "import matplotlib.pyplot as plt\n",
        "from sklearn.metrics import confusion_matrix\n",
        "\n",
        "conf_matrix = confusion_matrix(actual_class, predicted_class) #creates confusion matrix from predictions and actuals\n",
        "fig, ax = plt.subplots(figsize=(7.5, 7.5))\n",
        "ax.matshow(conf_matrix, cmap=plt.cm.Blues, alpha=0.3)\n",
        "\n",
        "for i in range(conf_matrix.shape[0]):\n",
        "    for j in range(conf_matrix.shape[1]):\n",
        "        ax.text(x=j, y=i,s=conf_matrix[i, j], va='center', ha='center', size='xx-large')\n",
        " \n",
        "plt.xlabel('Predicted label', fontsize=18)\n",
        "plt.ylabel('Actual label', fontsize=18)\n",
        "plt.title('Confusion Matrix', fontsize=18)\n",
        "plt.show()\n",
        "\n",
        "precision = (conf_matrix[0][0])/(conf_matrix[0][0]+conf_matrix[0][1])\n",
        "recall = (conf_matrix[0][0])/(conf_matrix[0][0]+conf_matrix[1][0])\n",
        "\n",
        "print(\"Accuracy:\",  (conf_matrix[0][0]+conf_matrix[1][1])/((conf_matrix[0][0]+conf_matrix[0][1])+(conf_matrix[1][0]+conf_matrix[1][1])))\n",
        "print(\"Precision:\",  precision)\n",
        "print(\"Recall:\",  recall)\n",
        "print(\"Specificity:\",  (conf_matrix[1][1])/(conf_matrix[1][1]+conf_matrix[0][1]))\n",
        "print(\"F1-Score:\",  (2*precision * recall)/(precision+recall))\n"
      ],
      "metadata": {
        "colab": {
          "base_uri": "https://localhost:8080/",
          "height": 788
        },
        "id": "3HbJoqHuKjpK",
        "outputId": "d648ebb9-43b6-4211-c8e1-334003d38220"
      },
      "execution_count": 85,
      "outputs": [
        {
          "output_type": "display_data",
          "data": {
            "text/plain": [
              "<Figure size 750x750 with 1 Axes>"
            ],
            "image/png": "[encoded data removed]"
          },
          "metadata": {}
        },
        {
          "output_type": "stream",
          "name": "stdout",
          "text": [
            "Accuracy: 0.46464646464646464\n",
            "Precision: 0.03636363636363636\n",
            "Recall: 1.0\n",
            "Specificity: 0.4536082474226804\n",
            "F1-Score: 0.07017543859649122\n"
          ]
        }
      ]
    },
    {
      "cell_type": "markdown",
      "metadata": {
        "id": "gGVIM5jX2Z5b"
      },
      "source": [
        "## Save the Entire Model\n",
        "\n",
        "We can save the entire model as follows:"
      ]
    },
    {
      "cell_type": "code",
      "metadata": {
        "id": "x4S-BcSI2v88"
      },
      "source": [
        "torch.save(model, '/content/model.pt')"
      ],
      "execution_count": 86,
      "outputs": []
    },
    {
      "cell_type": "markdown",
      "metadata": {
        "id": "aeJ99BfV9QRo"
      },
      "source": [
        "## Export Trained Model"
      ]
    },
    {
      "cell_type": "code",
      "metadata": {
        "colab": {
          "base_uri": "https://localhost:8080/"
        },
        "id": "gFmfiH0Z3QJb",
        "outputId": "991a3b09-3af2-4c9f-dc60-c5608110a05f"
      },
      "source": [
        "from google.colab import drive\n",
        "drive.mount('/content/gdrive')\n",
        "\n",
        "%cp /content/model.pt /content/gdrive/My\\ Drive"
      ],
      "execution_count": 87,
      "outputs": [
        {
          "output_type": "stream",
          "name": "stdout",
          "text": [
            "Drive already mounted at /content/gdrive; to attempt to forcibly remount, call drive.mount(\"/content/gdrive\", force_remount=True).\n"
          ]
        }
      ]
    },
    {
      "cell_type": "markdown",
      "metadata": {
        "id": "ORZKpeH1REHP"
      },
      "source": [
        "## Use your Exported Model"
      ]
    },
    {
      "cell_type": "code",
      "metadata": {
        "colab": {
          "base_uri": "https://localhost:8080/"
        },
        "id": "rS706FbORDiO",
        "outputId": "ae6923f2-77a1-4037-c468-8e453ebb0b42"
      },
      "source": [
        "MODEL_PATH = '/content/model.pt'\n",
        "model = torch.load(MODEL_PATH)\n",
        "model.eval()"
      ],
      "execution_count": 88,
      "outputs": [
        {
          "output_type": "execute_result",
          "data": {
            "text/plain": [
              "ViTForImageClassification(\n",
              "  (vit): ViTModel(\n",
              "    (embeddings): ViTEmbeddings(\n",
              "      (patch_embeddings): ViTPatchEmbeddings(\n",
              "        (projection): Conv2d(3, 768, kernel_size=(16, 16), stride=(16, 16))\n",
              "      )\n",
              "      (dropout): Dropout(p=0.0, inplace=False)\n",
              "    )\n",
              "    (encoder): ViTEncoder(\n",
              "      (layer): ModuleList(\n",
              "        (0-11): 12 x ViTLayer(\n",
              "          (attention): ViTAttention(\n",
              "            (attention): ViTSelfAttention(\n",
              "              (query): Linear(in_features=768, out_features=768, bias=True)\n",
              "              (key): Linear(in_features=768, out_features=768, bias=True)\n",
              "              (value): Linear(in_features=768, out_features=768, bias=True)\n",
              "              (dropout): Dropout(p=0.0, inplace=False)\n",
              "            )\n",
              "            (output): ViTSelfOutput(\n",
              "              (dense): Linear(in_features=768, out_features=768, bias=True)\n",
              "              (dropout): Dropout(p=0.0, inplace=False)\n",
              "            )\n",
              "          )\n",
              "          (intermediate): ViTIntermediate(\n",
              "            (dense): Linear(in_features=768, out_features=3072, bias=True)\n",
              "            (intermediate_act_fn): GELUActivation()\n",
              "          )\n",
              "          (output): ViTOutput(\n",
              "            (dense): Linear(in_features=3072, out_features=768, bias=True)\n",
              "            (dropout): Dropout(p=0.0, inplace=False)\n",
              "          )\n",
              "          (layernorm_before): LayerNorm((768,), eps=1e-12, elementwise_affine=True)\n",
              "          (layernorm_after): LayerNorm((768,), eps=1e-12, elementwise_affine=True)\n",
              "        )\n",
              "      )\n",
              "    )\n",
              "    (layernorm): LayerNorm((768,), eps=1e-12, elementwise_affine=True)\n",
              "    (pooler): ViTPooler(\n",
              "      (dense): Linear(in_features=768, out_features=768, bias=True)\n",
              "      (activation): Tanh()\n",
              "    )\n",
              "  )\n",
              "  (dropout): Dropout(p=0.1, inplace=False)\n",
              "  (classifier): Linear(in_features=768, out_features=2, bias=True)\n",
              ")"
            ]
          },
          "metadata": {},
          "execution_count": 88
        }
      ]
    }
  ]
}