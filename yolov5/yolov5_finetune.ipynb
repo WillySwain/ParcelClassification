{
 "cells": [
  {
   "cell_type": "code",
   "execution_count": 1,
   "id": "496295ec",
   "metadata": {},
   "outputs": [],
   "source": [
    "import torch"
   ]
  },
  {
   "cell_type": "code",
   "execution_count": 19,
   "id": "045d0c42",
   "metadata": {},
   "outputs": [],
   "source": [
    "from torch import nn\n",
    "from models.common import Conv"
   ]
  },
  {
   "cell_type": "code",
   "execution_count": 2,
   "id": "fafa675f",
   "metadata": {},
   "outputs": [
    {
     "name": "stderr",
     "output_type": "stream",
     "text": [
      "C:\\Users\\zhuhe\\anaconda3\\envs\\Pytorch\\lib\\site-packages\\torch\\hub.py:286: UserWarning: You are about to download and run code from an untrusted repository. In a future release, this won't be allowed. To add the repository to your trusted list, change the command to {calling_fn}(..., trust_repo=False) and a command prompt will appear asking for an explicit confirmation of trust, or load(..., trust_repo=True), which will assume that the prompt is to be answered with 'yes'. You can also use load(..., trust_repo='check') which will only prompt for confirmation if the repo is not already trusted. This will eventually be the default behaviour\n",
      "  warnings.warn(\n",
      "Downloading: \"https://github.com/ultralytics/yolov5/zipball/master\" to C:\\Users\\zhuhe/.cache\\torch\\hub\\master.zip\n",
      "YOLOv5  2023-4-12 Python-3.9.16 torch-2.0.0 CUDA:0 (NVIDIA GeForce GTX 1650, 4096MiB)\n",
      "\n",
      "Downloading https://github.com/ultralytics/yolov5/releases/download/v7.0/yolov5s.pt to yolov5s.pt...\n",
      "100%|█████████████████████████████████████████████████████████████████████████████| 14.1M/14.1M [00:02<00:00, 5.14MB/s]\n",
      "\n",
      "Fusing layers... \n",
      "YOLOv5s summary: 213 layers, 7225885 parameters, 0 gradients\n",
      "Adding AutoShape... \n"
     ]
    }
   ],
   "source": [
    "model = torch.hub.load('ultralytics/yolov5', 'yolov5s', pretrained=True)"
   ]
  },
  {
   "cell_type": "code",
   "execution_count": 22,
   "id": "c52ba19e",
   "metadata": {},
   "outputs": [],
   "source": [
    "# last_layer = nn.Sequential(*model.model[-1].detect[-1].module_list[-1:])"
   ]
  },
  {
   "cell_type": "code",
   "execution_count": 31,
   "id": "3b324144",
   "metadata": {},
   "outputs": [],
   "source": [
    "## get the last layer of yolov5s.pt\n",
    "last_layer_name, last_layer_module = list(model.named_children())[-1] "
   ]
  },
  {
   "cell_type": "code",
   "execution_count": 32,
   "id": "abed4f2d",
   "metadata": {},
   "outputs": [],
   "source": [
    "# new number of classes detected by the model\n",
    "num_classes = 2\n",
    "\n",
    "## new last layer\n",
    "num_anchors = 3   # new anchor\n",
    "last_layer_module.anchor_grid = torch.zeros((num_anchors, 2))  # modify the anchor grid\n",
    "last_layer_module.m = nn.Conv2d(512, num_anchors * (5 + num_classes), 1, 1, 0)  #modify the convolutional layer"
   ]
  },
  {
   "cell_type": "code",
   "execution_count": 33,
   "id": "19415f5b",
   "metadata": {},
   "outputs": [],
   "source": [
    "# store the new model\n",
    "torch.save(model.state_dict(), 'new_yolov5s.pt')"
   ]
  }
 ],
 "metadata": {
  "kernelspec": {
   "display_name": "Pytorch",
   "language": "python",
   "name": "pytorch"
  },
  "language_info": {
   "codemirror_mode": {
    "name": "ipython",
    "version": 3
   },
   "file_extension": ".py",
   "mimetype": "text/x-python",
   "name": "python",
   "nbconvert_exporter": "python",
   "pygments_lexer": "ipython3",
   "version": "3.9.16"
  }
 },
 "nbformat": 4,
 "nbformat_minor": 5
}
